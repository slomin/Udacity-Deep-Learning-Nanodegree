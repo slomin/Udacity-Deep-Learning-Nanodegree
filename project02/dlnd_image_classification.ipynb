{
 "cells": [
  {
   "cell_type": "markdown",
   "metadata": {
    "collapsed": true
   },
   "source": [
    "# Image Classification\n",
    "In this project, you'll classify images from the [CIFAR-10 dataset](https://www.cs.toronto.edu/~kriz/cifar.html).  The dataset consists of airplanes, dogs, cats, and other objects. You'll preprocess the images, then train a convolutional neural network on all the samples. The images need to be normalized and the labels need to be one-hot encoded.  You'll get to apply what you learned and build a convolutional, max pooling, dropout, and fully connected layers.  At the end, you'll get to see your neural network's predictions on the sample images.\n",
    "## Get the Data\n",
    "Run the following cell to download the [CIFAR-10 dataset for python](https://www.cs.toronto.edu/~kriz/cifar-10-python.tar.gz)."
   ]
  },
  {
   "cell_type": "code",
   "execution_count": 1,
   "metadata": {},
   "outputs": [
    {
     "name": "stdout",
     "output_type": "stream",
     "text": [
      "All files found!\n"
     ]
    }
   ],
   "source": [
    "\"\"\"\n",
    "DON'T MODIFY ANYTHING IN THIS CELL THAT IS BELOW THIS LINE\n",
    "\"\"\"\n",
    "from urllib.request import urlretrieve\n",
    "from os.path import isfile, isdir\n",
    "from tqdm import tqdm\n",
    "import problem_unittests as tests\n",
    "import tarfile\n",
    "\n",
    "cifar10_dataset_folder_path = 'cifar-10-batches-py'\n",
    "\n",
    "# Use Floyd's cifar-10 dataset if present\n",
    "floyd_cifar10_location = '/input/cifar-10/python.tar.gz'\n",
    "if isfile(floyd_cifar10_location):\n",
    "    tar_gz_path = floyd_cifar10_location\n",
    "else:\n",
    "    tar_gz_path = 'cifar-10-python.tar.gz'\n",
    "\n",
    "class DLProgress(tqdm):\n",
    "    last_block = 0\n",
    "\n",
    "    def hook(self, block_num=1, block_size=1, total_size=None):\n",
    "        self.total = total_size\n",
    "        self.update((block_num - self.last_block) * block_size)\n",
    "        self.last_block = block_num\n",
    "\n",
    "if not isfile(tar_gz_path):\n",
    "    with DLProgress(unit='B', unit_scale=True, miniters=1, desc='CIFAR-10 Dataset') as pbar:\n",
    "        urlretrieve(\n",
    "            'https://www.cs.toronto.edu/~kriz/cifar-10-python.tar.gz',\n",
    "            tar_gz_path,\n",
    "            pbar.hook)\n",
    "\n",
    "if not isdir(cifar10_dataset_folder_path):\n",
    "    with tarfile.open(tar_gz_path) as tar:\n",
    "        tar.extractall()\n",
    "        tar.close()\n",
    "\n",
    "\n",
    "tests.test_folder_path(cifar10_dataset_folder_path)"
   ]
  },
  {
   "cell_type": "markdown",
   "metadata": {},
   "source": [
    "## Explore the Data\n",
    "The dataset is broken into batches to prevent your machine from running out of memory.  The CIFAR-10 dataset consists of 5 batches, named `data_batch_1`, `data_batch_2`, etc.. Each batch contains the labels and images that are one of the following:\n",
    "* airplane\n",
    "* automobile\n",
    "* bird\n",
    "* cat\n",
    "* deer\n",
    "* dog\n",
    "* frog\n",
    "* horse\n",
    "* ship\n",
    "* truck\n",
    "\n",
    "Understanding a dataset is part of making predictions on the data.  Play around with the code cell below by changing the `batch_id` and `sample_id`. The `batch_id` is the id for a batch (1-5). The `sample_id` is the id for a image and label pair in the batch.\n",
    "\n",
    "Ask yourself \"What are all possible labels?\", \"What is the range of values for the image data?\", \"Are the labels in order or random?\".  Answers to questions like these will help you preprocess the data and end up with better predictions."
   ]
  },
  {
   "cell_type": "code",
   "execution_count": 2,
   "metadata": {},
   "outputs": [
    {
     "name": "stdout",
     "output_type": "stream",
     "text": [
      "\n",
      "Stats of batch 1:\n",
      "Samples: 10000\n",
      "Label Counts: {0: 1005, 1: 974, 2: 1032, 3: 1016, 4: 999, 5: 937, 6: 1030, 7: 1001, 8: 1025, 9: 981}\n",
      "First 20 Labels: [6, 9, 9, 4, 1, 1, 2, 7, 8, 3, 4, 7, 7, 2, 9, 9, 9, 3, 2, 6]\n",
      "\n",
      "Example of Image 0:\n",
      "Image - Min Value: 0 Max Value: 255\n",
      "Image - Shape: (32, 32, 3)\n",
      "Label - Label Id: 6 Name: frog\n"
     ]
    },
    {
     "data": {
      "image/png": "[encoded data removed]",
      "text/plain": [
       "<matplotlib.figure.Figure at 0x114c78ba8>"
      ]
     },
     "metadata": {
      "image/png": {
       "height": 250,
       "width": 253
      }
     },
     "output_type": "display_data"
    }
   ],
   "source": [
    "%matplotlib inline\n",
    "%config InlineBackend.figure_format = 'retina'\n",
    "\n",
    "import helper\n",
    "import numpy as np\n",
    "\n",
    "# Explore the dataset\n",
    "batch_id = 1\n",
    "sample_id = 0\n",
    "helper.display_stats(cifar10_dataset_folder_path, batch_id, sample_id)"
   ]
  },
  {
   "cell_type": "markdown",
   "metadata": {},
   "source": [
    "## Implement Preprocess Functions\n",
    "### Normalize\n",
    "In the cell below, implement the `normalize` function to take in image data, `x`, and return it as a normalized Numpy array. The values should be in the range of 0 to 1, inclusive.  The return object should be the same shape as `x`."
   ]
  },
  {
   "cell_type": "code",
   "execution_count": 3,
   "metadata": {},
   "outputs": [
    {
     "name": "stdout",
     "output_type": "stream",
     "text": [
      "Tests Passed\n"
     ]
    }
   ],
   "source": [
    "def normalize(x):\n",
    "    \"\"\"\n",
    "    Normalize a list of sample image data in the range of 0 to 1\n",
    "    : x: List of image data.  The image shape is (32, 32, 3)\n",
    "    : return: Numpy array of normalize data\n",
    "    \"\"\"\n",
    "    return (x - x.min())/(x.max() - x.min())\n",
    "\n",
    "\n",
    "\"\"\"\n",
    "DON'T MODIFY ANYTHING IN THIS CELL THAT IS BELOW THIS LINE\n",
    "\"\"\"\n",
    "tests.test_normalize(normalize)"
   ]
  },
  {
   "cell_type": "markdown",
   "metadata": {},
   "source": [
    "### One-hot encode\n",
    "Just like the previous code cell, you'll be implementing a function for preprocessing.  This time, you'll implement the `one_hot_encode` function. The input, `x`, are a list of labels.  Implement the function to return the list of labels as One-Hot encoded Numpy array.  The possible values for labels are 0 to 9. The one-hot encoding function should return the same encoding for each value between each call to `one_hot_encode`.  Make sure to save the map of encodings outside the function.\n",
    "\n",
    "Hint: Don't reinvent the wheel."
   ]
  },
  {
   "cell_type": "code",
   "execution_count": 4,
   "metadata": {},
   "outputs": [
    {
     "name": "stdout",
     "output_type": "stream",
     "text": [
      "Tests Passed\n"
     ]
    }
   ],
   "source": [
    "def one_hot_encode(x):\n",
    "    \"\"\"\n",
    "    One hot encode a list of sample labels. Return a one-hot encoded vector for each label.\n",
    "    : x: List of sample Labels\n",
    "    : return: Numpy array of one-hot encoded labels\n",
    "    \"\"\"\n",
    "    return np.eye(10)[x]\n",
    "\n",
    "\n",
    "\"\"\"\n",
    "DON'T MODIFY ANYTHING IN THIS CELL THAT IS BELOW THIS LINE\n",
    "\"\"\"\n",
    "tests.test_one_hot_encode(one_hot_encode)"
   ]
  },
  {
   "cell_type": "markdown",
   "metadata": {},
   "source": [
    "### Randomize Data\n",
    "As you saw from exploring the data above, the order of the samples are randomized.  It doesn't hurt to randomize it again, but you don't need to for this dataset."
   ]
  },
  {
   "cell_type": "markdown",
   "metadata": {},
   "source": [
    "## Preprocess all the data and save it\n",
    "Running the code cell below will preprocess all the CIFAR-10 data and save it to file. The code below also uses 10% of the training data for validation."
   ]
  },
  {
   "cell_type": "code",
   "execution_count": 5,
   "metadata": {},
   "outputs": [],
   "source": [
    "\"\"\"\n",
    "DON'T MODIFY ANYTHING IN THIS CELL\n",
    "\"\"\"\n",
    "# Preprocess Training, Validation, and Testing Data\n",
    "helper.preprocess_and_save_data(cifar10_dataset_folder_path, normalize, one_hot_encode)"
   ]
  },
  {
   "cell_type": "markdown",
   "metadata": {},
   "source": [
    "# Check Point\n",
    "This is your first checkpoint.  If you ever decide to come back to this notebook or have to restart the notebook, you can start from here.  The preprocessed data has been saved to disk."
   ]
  },
  {
   "cell_type": "code",
   "execution_count": 6,
   "metadata": {
    "collapsed": true
   },
   "outputs": [],
   "source": [
    "\"\"\"\n",
    "DON'T MODIFY ANYTHING IN THIS CELL\n",
    "\"\"\"\n",
    "import pickle\n",
    "import problem_unittests as tests\n",
    "import helper\n",
    "\n",
    "# Load the Preprocessed Validation data\n",
    "valid_features, valid_labels = pickle.load(open('preprocess_validation.p', mode='rb'))"
   ]
  },
  {
   "cell_type": "markdown",
   "metadata": {},
   "source": [
    "## Build the network\n",
    "For the neural network, you'll build each layer into a function.  Most of the code you've seen has been outside of functions. To test your code more thoroughly, we require that you put each layer in a function.  This allows us to give you better feedback and test for simple mistakes using our unittests before you submit your project.\n",
    "\n",
    ">**Note:** If you're finding it hard to dedicate enough time for this course each week, we've provided a small shortcut to this part of the project. In the next couple of problems, you'll have the option to use classes from the [TensorFlow Layers](https://www.tensorflow.org/api_docs/python/tf/layers) or [TensorFlow Layers (contrib)](https://www.tensorflow.org/api_guides/python/contrib.layers) packages to build each layer, except the layers you build in the \"Convolutional and Max Pooling Layer\" section.  TF Layers is similar to Keras's and TFLearn's abstraction to layers, so it's easy to pickup.\n",
    "\n",
    ">However, if you would like to get the most out of this course, try to solve all the problems _without_ using anything from the TF Layers packages. You **can** still use classes from other packages that happen to have the same name as ones you find in TF Layers! For example, instead of using the TF Layers version of the `conv2d` class, [tf.layers.conv2d](https://www.tensorflow.org/api_docs/python/tf/layers/conv2d), you would want to use the TF Neural Network version of `conv2d`, [tf.nn.conv2d](https://www.tensorflow.org/api_docs/python/tf/nn/conv2d). \n",
    "\n",
    "Let's begin!\n",
    "\n",
    "### Input\n",
    "The neural network needs to read the image data, one-hot encoded labels, and dropout keep probability. Implement the following functions\n",
    "* Implement `neural_net_image_input`\n",
    " * Return a [TF Placeholder](https://www.tensorflow.org/api_docs/python/tf/placeholder)\n",
    " * Set the shape using `image_shape` with batch size set to `None`.\n",
    " * Name the TensorFlow placeholder \"x\" using the TensorFlow `name` parameter in the [TF Placeholder](https://www.tensorflow.org/api_docs/python/tf/placeholder).\n",
    "* Implement `neural_net_label_input`\n",
    " * Return a [TF Placeholder](https://www.tensorflow.org/api_docs/python/tf/placeholder)\n",
    " * Set the shape using `n_classes` with batch size set to `None`.\n",
    " * Name the TensorFlow placeholder \"y\" using the TensorFlow `name` parameter in the [TF Placeholder](https://www.tensorflow.org/api_docs/python/tf/placeholder).\n",
    "* Implement `neural_net_keep_prob_input`\n",
    " * Return a [TF Placeholder](https://www.tensorflow.org/api_docs/python/tf/placeholder) for dropout keep probability.\n",
    " * Name the TensorFlow placeholder \"keep_prob\" using the TensorFlow `name` parameter in the [TF Placeholder](https://www.tensorflow.org/api_docs/python/tf/placeholder).\n",
    "\n",
    "These names will be used at the end of the project to load your saved model.\n",
    "\n",
    "Note: `None` for shapes in TensorFlow allow for a dynamic size."
   ]
  },
  {
   "cell_type": "code",
   "execution_count": 7,
   "metadata": {},
   "outputs": [
    {
     "name": "stdout",
     "output_type": "stream",
     "text": [
      "Image Input Tests Passed.\n",
      "Label Input Tests Passed.\n",
      "Keep Prob Tests Passed.\n"
     ]
    }
   ],
   "source": [
    "import tensorflow as tf\n",
    "\n",
    "def neural_net_image_input(image_shape):\n",
    "    \"\"\"\n",
    "    Return a Tensor for a batch of image input\n",
    "    : image_shape: Shape of the images\n",
    "    : return: Tensor for image input.\n",
    "    \"\"\"\n",
    "    return tf.placeholder(dtype=tf.float32, shape=(None, *image_shape), name=\"x\")\n",
    "\n",
    "\n",
    "def neural_net_label_input(n_classes):\n",
    "    \"\"\"\n",
    "    Return a Tensor for a batch of label input\n",
    "    : n_classes: Number of classes\n",
    "    : return: Tensor for label input.\n",
    "    \"\"\"\n",
    "    return tf.placeholder(dtype=tf.float32, shape=(None, n_classes), name=\"y\")\n",
    "\n",
    "\n",
    "def neural_net_keep_prob_input():\n",
    "    \"\"\"\n",
    "    Return a Tensor for keep probability\n",
    "    : return: Tensor for keep probability.\n",
    "    \"\"\"\n",
    "    return tf.placeholder(dtype=tf.float32, shape=None, name=\"keep_prob\")\n",
    "\n",
    "\n",
    "\"\"\"\n",
    "DON'T MODIFY ANYTHING IN THIS CELL THAT IS BELOW THIS LINE\n",
    "\"\"\"\n",
    "tf.reset_default_graph()\n",
    "tests.test_nn_image_inputs(neural_net_image_input)\n",
    "tests.test_nn_label_inputs(neural_net_label_input)\n",
    "tests.test_nn_keep_prob_inputs(neural_net_keep_prob_input)"
   ]
  },
  {
   "cell_type": "markdown",
   "metadata": {},
   "source": [
    "### Convolution and Max Pooling Layer\n",
    "Convolution layers have a lot of success with images. For this code cell, you should implement the function `conv2d_maxpool` to apply convolution then max pooling:\n",
    "* Create the weight and bias using `conv_ksize`, `conv_num_outputs` and the shape of `x_tensor`.\n",
    "* Apply a convolution to `x_tensor` using weight and `conv_strides`.\n",
    " * We recommend you use same padding, but you're welcome to use any padding.\n",
    "* Add bias\n",
    "* Add a nonlinear activation to the convolution.\n",
    "* Apply Max Pooling using `pool_ksize` and `pool_strides`.\n",
    " * We recommend you use same padding, but you're welcome to use any padding.\n",
    "\n",
    "**Note:** You **can't** use [TensorFlow Layers](https://www.tensorflow.org/api_docs/python/tf/layers) or [TensorFlow Layers (contrib)](https://www.tensorflow.org/api_guides/python/contrib.layers) for **this** layer, but you can still use TensorFlow's [Neural Network](https://www.tensorflow.org/api_docs/python/tf/nn) package. You may still use the shortcut option for all the **other** layers."
   ]
  },
  {
   "cell_type": "code",
   "execution_count": 8,
   "metadata": {},
   "outputs": [
    {
     "name": "stdout",
     "output_type": "stream",
     "text": [
      "Tests Passed\n"
     ]
    }
   ],
   "source": [
    "import numpy as np\n",
    "def conv2d_maxpool(x_tensor, conv_num_outputs, conv_ksize, conv_strides, pool_ksize, pool_strides):\n",
    "    \"\"\"\n",
    "    Apply convolution then max pooling to x_tensor\n",
    "    :param x_tensor: TensorFlow Tensor\n",
    "    :param conv_num_outputs: Number of outputs for the convolutional layer\n",
    "    :param conv_ksize: kernal size 2-D Tuple for the convolutional layer\n",
    "    :param conv_strides: Stride 2-D Tuple for convolution\n",
    "    :param pool_ksize: kernal size 2-D Tuple for pool\n",
    "    :param pool_strides: Stride 2-D Tuple for pool\n",
    "    : return: A tensor that represents convolution and max pooling of x_tensor\n",
    "    \"\"\"\n",
    "    shape = x_tensor.get_shape().as_list()\n",
    "    size = (conv_ksize[0], conv_ksize[1], shape[3], conv_num_outputs)\n",
    "    # weights set according to the \"General rule for setting weights\"\n",
    "    weigths_range = 1 / np.sqrt(shape[1] * shape[2] * shape[3])\n",
    "    weigths = tf.Variable(tf.truncated_normal(size, 0, weigths_range))\n",
    "    bias = tf.Variable(tf.zeros(conv_num_outputs))\n",
    "    tensor = tf.nn.conv2d(x_tensor, weigths, strides=[1, conv_strides[0], conv_strides[1], 1], padding='VALID')\n",
    "    tensor = tf.nn.bias_add(tensor, bias)\n",
    "    tensor = tf.nn.relu(tensor)\n",
    "    tensor = tf.nn.max_pool(tensor, ksize=[1, pool_ksize[0], pool_ksize[1], 1],\n",
    "                        strides=[1, pool_strides[0], pool_strides[1], 1], padding='VALID')\n",
    "    return tensor \n",
    "\n",
    "\n",
    "\"\"\"\n",
    "DON'T MODIFY ANYTHING IN THIS CELL THAT IS BELOW THIS LINE\n",
    "\"\"\"\n",
    "tests.test_con_pool(conv2d_maxpool)"
   ]
  },
  {
   "cell_type": "markdown",
   "metadata": {},
   "source": [
    "### Flatten Layer\n",
    "Implement the `flatten` function to change the dimension of `x_tensor` from a 4-D tensor to a 2-D tensor.  The output should be the shape (*Batch Size*, *Flattened Image Size*). Shortcut option: you can use classes from the [TensorFlow Layers](https://www.tensorflow.org/api_docs/python/tf/layers) or [TensorFlow Layers (contrib)](https://www.tensorflow.org/api_guides/python/contrib.layers) packages for this layer. For more of a challenge, only use other TensorFlow packages."
   ]
  },
  {
   "cell_type": "code",
   "execution_count": 9,
   "metadata": {},
   "outputs": [
    {
     "name": "stdout",
     "output_type": "stream",
     "text": [
      "Tests Passed\n"
     ]
    }
   ],
   "source": [
    "def flatten(x_tensor):\n",
    "    \"\"\"\n",
    "    Flatten x_tensor to (Batch Size, Flattened Image Size)\n",
    "    : x_tensor: A tensor of size (Batch Size, ...), where ... are the image dimensions.\n",
    "    : return: A tensor of size (Batch Size, Flattened Image Size).\n",
    "    \"\"\"\n",
    "    return tf.contrib.layers.flatten(x_tensor)\n",
    "\n",
    "\n",
    "\"\"\"\n",
    "DON'T MODIFY ANYTHING IN THIS CELL THAT IS BELOW THIS LINE\n",
    "\"\"\"\n",
    "tests.test_flatten(flatten)"
   ]
  },
  {
   "cell_type": "markdown",
   "metadata": {},
   "source": [
    "### Fully-Connected Layer\n",
    "Implement the `fully_conn` function to apply a fully connected layer to `x_tensor` with the shape (*Batch Size*, *num_outputs*). Shortcut option: you can use classes from the [TensorFlow Layers](https://www.tensorflow.org/api_docs/python/tf/layers) or [TensorFlow Layers (contrib)](https://www.tensorflow.org/api_guides/python/contrib.layers) packages for this layer. For more of a challenge, only use other TensorFlow packages."
   ]
  },
  {
   "cell_type": "code",
   "execution_count": 10,
   "metadata": {},
   "outputs": [
    {
     "name": "stdout",
     "output_type": "stream",
     "text": [
      "Tests Passed\n"
     ]
    }
   ],
   "source": [
    "def fully_conn(x_tensor, num_outputs):\n",
    "    \"\"\"\n",
    "    Apply a fully connected layer to x_tensor using weight and bias\n",
    "    : x_tensor: A 2-D tensor where the first dimension is batch size.\n",
    "    : num_outputs: The number of output that the new tensor should be.\n",
    "    : return: A 2-D tensor where the second dimension is num_outputs.\n",
    "    \"\"\"\n",
    "    shape = x_tensor.get_shape().as_list()\n",
    "    weights = tf.Variable(tf.truncated_normal([shape[1], num_outputs], stddev=0.1))\n",
    "    bias = tf.Variable(tf.zeros([num_outputs]))\n",
    "    return tf.nn.elu(tf.add(tf.matmul(x_tensor, weights), bias))\n",
    "\n",
    "\n",
    "\"\"\"\n",
    "DON'T MODIFY ANYTHING IN THIS CELL THAT IS BELOW THIS LINE\n",
    "\"\"\"\n",
    "tests.test_fully_conn(fully_conn)"
   ]
  },
  {
   "cell_type": "markdown",
   "metadata": {},
   "source": [
    "### Output Layer\n",
    "Implement the `output` function to apply a fully connected layer to `x_tensor` with the shape (*Batch Size*, *num_outputs*). Shortcut option: you can use classes from the [TensorFlow Layers](https://www.tensorflow.org/api_docs/python/tf/layers) or [TensorFlow Layers (contrib)](https://www.tensorflow.org/api_guides/python/contrib.layers) packages for this layer. For more of a challenge, only use other TensorFlow packages.\n",
    "\n",
    "**Note:** Activation, softmax, or cross entropy should **not** be applied to this."
   ]
  },
  {
   "cell_type": "code",
   "execution_count": 11,
   "metadata": {},
   "outputs": [
    {
     "name": "stdout",
     "output_type": "stream",
     "text": [
      "Tests Passed\n"
     ]
    }
   ],
   "source": [
    "def output(x_tensor, num_outputs):\n",
    "    \"\"\"\n",
    "    Apply a output layer to x_tensor using weight and bias\n",
    "    : x_tensor: A 2-D tensor where the first dimension is batch size.\n",
    "    : num_outputs: The number of output that the new tensor should be.\n",
    "    : return: A 2-D tensor where the second dimension is num_outputs.\n",
    "    \"\"\"\n",
    "    shape = x_tensor.get_shape().as_list()\n",
    "    weights = tf.Variable(tf.truncated_normal([shape[1], num_outputs], stddev=0.1))\n",
    "    bias = tf.Variable(tf.zeros([num_outputs]))\n",
    "    return tf.add(tf.matmul(x_tensor, weights), bias)\n",
    "\n",
    "\n",
    "\"\"\"\n",
    "DON'T MODIFY ANYTHING IN THIS CELL THAT IS BELOW THIS LINE\n",
    "\"\"\"\n",
    "tests.test_output(output)"
   ]
  },
  {
   "cell_type": "markdown",
   "metadata": {},
   "source": [
    "### Create Convolutional Model\n",
    "Implement the function `conv_net` to create a convolutional neural network model. The function takes in a batch of images, `x`, and outputs logits.  Use the layers you created above to create this model:\n",
    "\n",
    "* Apply 1, 2, or 3 Convolution and Max Pool layers\n",
    "* Apply a Flatten Layer\n",
    "* Apply 1, 2, or 3 Fully Connected Layers\n",
    "* Apply an Output Layer\n",
    "* Return the output\n",
    "* Apply [TensorFlow's Dropout](https://www.tensorflow.org/api_docs/python/tf/nn/dropout) to one or more layers in the model using `keep_prob`. "
   ]
  },
  {
   "cell_type": "code",
   "execution_count": 12,
   "metadata": {},
   "outputs": [
    {
     "name": "stdout",
     "output_type": "stream",
     "text": [
      "Neural Network Built!\n"
     ]
    }
   ],
   "source": [
    "def conv_net(x, keep_prob):\n",
    "    \"\"\"\n",
    "    Create a convolutional neural network model\n",
    "    : x: Placeholder tensor that holds image data.\n",
    "    : keep_prob: Placeholder tensor that hold dropout keep probability.\n",
    "    : return: Tensor that represents logits\n",
    "    \"\"\"\n",
    "    # TODO: Apply 1, 2, or 3 Convolution and Max Pool layers\n",
    "    #    Play around with different number of outputs, kernel size and stride\n",
    "    # Function Definition from Above:\n",
    "    #    conv2d_maxpool(x_tensor, conv_num_outputs, conv_ksize, conv_strides, pool_ksize, pool_strides)\n",
    "    tensor = conv2d_maxpool(x, 36, (4, 4), (1, 1), (2, 2), (2, 2))\n",
    "    tensor = tf.nn.dropout(tensor, keep_prob)\n",
    "    \n",
    "    # TODO: Apply a Flatten Layer\n",
    "    # Function Definition from Above:\n",
    "    #   flatten(x_tensor)\n",
    "    tensor = flatten(tensor)\n",
    "    \n",
    "\n",
    "    # TODO: Apply 1, 2, or 3 Fully Connected Layers\n",
    "    #    Play around with different number of outputs\n",
    "    # Function Definition from Above:\n",
    "    #   fully_conn(x_tensor, num_outputs)\n",
    "    tensor = fully_conn(tensor, 256)\n",
    "    tensor = tf.nn.dropout(tensor, keep_prob)\n",
    "    \n",
    "    # TODO: Apply an Output Layer\n",
    "    #    Set this to the number of classes\n",
    "    # Function Definition from Above:\n",
    "    #   output(x_tensor, num_outputs)\n",
    "    return output(tensor, 10)\n",
    "\n",
    "\n",
    "\"\"\"\n",
    "DON'T MODIFY ANYTHING IN THIS CELL THAT IS BELOW THIS LINE\n",
    "\"\"\"\n",
    "\n",
    "##############################\n",
    "## Build the Neural Network ##\n",
    "##############################\n",
    "\n",
    "# Remove previous weights, bias, inputs, etc..\n",
    "tf.reset_default_graph()\n",
    "\n",
    "# Inputs\n",
    "x = neural_net_image_input((32, 32, 3))\n",
    "y = neural_net_label_input(10)\n",
    "keep_prob = neural_net_keep_prob_input()\n",
    "\n",
    "# Model\n",
    "logits = conv_net(x, keep_prob)\n",
    "\n",
    "# Name logits Tensor, so that is can be loaded from disk after training\n",
    "logits = tf.identity(logits, name='logits')\n",
    "\n",
    "# Loss and Optimizer\n",
    "cost = tf.reduce_mean(tf.nn.softmax_cross_entropy_with_logits(logits=logits, labels=y))\n",
    "optimizer = tf.train.AdamOptimizer().minimize(cost)\n",
    "\n",
    "# Accuracy\n",
    "correct_pred = tf.equal(tf.argmax(logits, 1), tf.argmax(y, 1))\n",
    "accuracy = tf.reduce_mean(tf.cast(correct_pred, tf.float32), name='accuracy')\n",
    "\n",
    "tests.test_conv_net(conv_net)"
   ]
  },
  {
   "cell_type": "markdown",
   "metadata": {},
   "source": [
    "## Train the Neural Network\n",
    "### Single Optimization\n",
    "Implement the function `train_neural_network` to do a single optimization.  The optimization should use `optimizer` to optimize in `session` with a `feed_dict` of the following:\n",
    "* `x` for image input\n",
    "* `y` for labels\n",
    "* `keep_prob` for keep probability for dropout\n",
    "\n",
    "This function will be called for each batch, so `tf.global_variables_initializer()` has already been called.\n",
    "\n",
    "Note: Nothing needs to be returned. This function is only optimizing the neural network."
   ]
  },
  {
   "cell_type": "code",
   "execution_count": 13,
   "metadata": {},
   "outputs": [
    {
     "name": "stdout",
     "output_type": "stream",
     "text": [
      "Tests Passed\n"
     ]
    }
   ],
   "source": [
    "def train_neural_network(session, optimizer, keep_probability, feature_batch, label_batch):\n",
    "    \"\"\"\n",
    "    Optimize the session on a batch of images and labels\n",
    "    : session: Current TensorFlow session\n",
    "    : optimizer: TensorFlow optimizer function\n",
    "    : keep_probability: keep probability\n",
    "    : feature_batch: Batch of Numpy image data\n",
    "    : label_batch: Batch of Numpy label data\n",
    "    \"\"\"\n",
    "    # TODO: Implement Function\n",
    "    session.run(optimizer, feed_dict={\n",
    "        x: feature_batch,\n",
    "        y: label_batch,\n",
    "        keep_prob: keep_probability})\n",
    "\n",
    "\n",
    "\"\"\"\n",
    "DON'T MODIFY ANYTHING IN THIS CELL THAT IS BELOW THIS LINE\n",
    "\"\"\"\n",
    "tests.test_train_nn(train_neural_network)"
   ]
  },
  {
   "cell_type": "markdown",
   "metadata": {},
   "source": [
    "### Show Stats\n",
    "Implement the function `print_stats` to print loss and validation accuracy.  Use the global variables `valid_features` and `valid_labels` to calculate validation accuracy.  Use a keep probability of `1.0` to calculate the loss and validation accuracy."
   ]
  },
  {
   "cell_type": "code",
   "execution_count": 14,
   "metadata": {},
   "outputs": [],
   "source": [
    "def print_stats(session, feature_batch, label_batch, cost, accuracy):\n",
    "    \"\"\"\n",
    "    Print information about loss and validation accuracy\n",
    "    : session: Current TensorFlow session\n",
    "    : feature_batch: Batch of Numpy image data\n",
    "    : label_batch: Batch of Numpy label data\n",
    "    : cost: TensorFlow cost function\n",
    "    : accuracy: TensorFlow accuracy function\n",
    "    \"\"\"\n",
    "    # TODO: Implement Function\n",
    "    loss = session.run(cost, feed_dict={x: feature_batch,\n",
    "                                    y: label_batch,\n",
    "                                    keep_prob: 1.0})\n",
    "    \n",
    "    accuracy = session.run(accuracy, feed_dict={x: valid_features,\n",
    "                                       y: valid_labels,\n",
    "                                       keep_prob: 1.0})\n",
    "    \n",
    "    print(\"Loss: {0} | Accuracy: {1}\".format(loss, accuracy))"
   ]
  },
  {
   "cell_type": "markdown",
   "metadata": {},
   "source": [
    "### Hyperparameters\n",
    "Tune the following parameters:\n",
    "* Set `epochs` to the number of iterations until the network stops learning or start overfitting\n",
    "* Set `batch_size` to the highest number that your machine has memory for.  Most people set them to common sizes of memory:\n",
    " * 64\n",
    " * 128\n",
    " * 256\n",
    " * ...\n",
    "* Set `keep_probability` to the probability of keeping a node using dropout"
   ]
  },
  {
   "cell_type": "code",
   "execution_count": 15,
   "metadata": {},
   "outputs": [],
   "source": [
    "# TODO: Tune Parameters\n",
    "epochs = 50\n",
    "batch_size = 512\n",
    "keep_probability = 0.6"
   ]
  },
  {
   "cell_type": "markdown",
   "metadata": {},
   "source": [
    "### Train on a Single CIFAR-10 Batch\n",
    "Instead of training the neural network on all the CIFAR-10 batches of data, let's use a single batch. This should save time while you iterate on the model to get a better accuracy.  Once the final validation accuracy is 50% or greater, run the model on all the data in the next section."
   ]
  },
  {
   "cell_type": "code",
   "execution_count": 16,
   "metadata": {},
   "outputs": [
    {
     "name": "stdout",
     "output_type": "stream",
     "text": [
      "Checking the Training on a Single Batch...\n",
      "Epoch  1, CIFAR-10 Batch 1:  Loss: 2.031899929046631 | Accuracy: 0.3149999976158142\n",
      "Epoch  2, CIFAR-10 Batch 1:  Loss: 1.7996578216552734 | Accuracy: 0.3921999931335449\n",
      "Epoch  3, CIFAR-10 Batch 1:  Loss: 1.6461513042449951 | Accuracy: 0.4336000084877014\n",
      "Epoch  4, CIFAR-10 Batch 1:  Loss: 1.5267021656036377 | Accuracy: 0.46779999136924744\n",
      "Epoch  5, CIFAR-10 Batch 1:  Loss: 1.415427327156067 | Accuracy: 0.48500001430511475\n",
      "Epoch  6, CIFAR-10 Batch 1:  Loss: 1.3428173065185547 | Accuracy: 0.5009999871253967\n",
      "Epoch  7, CIFAR-10 Batch 1:  Loss: 1.2762030363082886 | Accuracy: 0.5138000249862671\n",
      "Epoch  8, CIFAR-10 Batch 1:  Loss: 1.2325778007507324 | Accuracy: 0.5212000012397766\n",
      "Epoch  9, CIFAR-10 Batch 1:  Loss: 1.1883699893951416 | Accuracy: 0.5299999713897705\n",
      "Epoch 10, CIFAR-10 Batch 1:  Loss: 1.1720468997955322 | Accuracy: 0.5281999707221985\n",
      "Epoch 11, CIFAR-10 Batch 1:  Loss: 1.1284171342849731 | Accuracy: 0.5315999984741211\n",
      "Epoch 12, CIFAR-10 Batch 1:  Loss: 1.0951080322265625 | Accuracy: 0.5383999943733215\n",
      "Epoch 13, CIFAR-10 Batch 1:  Loss: 1.0609867572784424 | Accuracy: 0.5393999814987183\n",
      "Epoch 14, CIFAR-10 Batch 1:  Loss: 1.0244414806365967 | Accuracy: 0.5425999760627747\n",
      "Epoch 15, CIFAR-10 Batch 1:  Loss: 0.9989529252052307 | Accuracy: 0.5407999753952026\n",
      "Epoch 16, CIFAR-10 Batch 1:  Loss: 0.9668757319450378 | Accuracy: 0.5478000044822693\n",
      "Epoch 17, CIFAR-10 Batch 1:  Loss: 0.9480344653129578 | Accuracy: 0.5491999983787537\n",
      "Epoch 18, CIFAR-10 Batch 1:  Loss: 0.9234458208084106 | Accuracy: 0.550599992275238\n",
      "Epoch 19, CIFAR-10 Batch 1:  Loss: 0.8969513177871704 | Accuracy: 0.5532000064849854\n",
      "Epoch 20, CIFAR-10 Batch 1:  Loss: 0.8892742991447449 | Accuracy: 0.5504000186920166\n",
      "Epoch 21, CIFAR-10 Batch 1:  Loss: 0.8515356183052063 | Accuracy: 0.5533999800682068\n",
      "Epoch 22, CIFAR-10 Batch 1:  Loss: 0.8327290415763855 | Accuracy: 0.5569999814033508\n",
      "Epoch 23, CIFAR-10 Batch 1:  Loss: 0.8135477304458618 | Accuracy: 0.5546000003814697\n",
      "Epoch 24, CIFAR-10 Batch 1:  Loss: 0.7746546268463135 | Accuracy: 0.557200014591217\n",
      "Epoch 25, CIFAR-10 Batch 1:  Loss: 0.7522221207618713 | Accuracy: 0.5609999895095825\n",
      "Epoch 26, CIFAR-10 Batch 1:  Loss: 0.7347747087478638 | Accuracy: 0.5558000206947327\n",
      "Epoch 27, CIFAR-10 Batch 1:  Loss: 0.7287135720252991 | Accuracy: 0.5468000173568726\n",
      "Epoch 28, CIFAR-10 Batch 1:  Loss: 0.6914786100387573 | Accuracy: 0.5591999888420105\n",
      "Epoch 29, CIFAR-10 Batch 1:  Loss: 0.6653921008110046 | Accuracy: 0.5616000294685364\n",
      "Epoch 30, CIFAR-10 Batch 1:  Loss: 0.6496670842170715 | Accuracy: 0.5573999881744385\n",
      "Epoch 31, CIFAR-10 Batch 1:  Loss: 0.6425287127494812 | Accuracy: 0.5527999997138977\n",
      "Epoch 32, CIFAR-10 Batch 1:  Loss: 0.6170544624328613 | Accuracy: 0.5600000023841858\n",
      "Epoch 33, CIFAR-10 Batch 1:  Loss: 0.6129586100578308 | Accuracy: 0.5483999848365784\n",
      "Epoch 34, CIFAR-10 Batch 1:  Loss: 0.6203624606132507 | Accuracy: 0.5515999794006348\n",
      "Epoch 35, CIFAR-10 Batch 1:  Loss: 0.5922968983650208 | Accuracy: 0.5450000166893005\n",
      "Epoch 36, CIFAR-10 Batch 1:  Loss: 0.5577853322029114 | Accuracy: 0.5501999855041504\n",
      "Epoch 37, CIFAR-10 Batch 1:  Loss: 0.5471794009208679 | Accuracy: 0.5576000213623047\n",
      "Epoch 38, CIFAR-10 Batch 1:  Loss: 0.5312439203262329 | Accuracy: 0.5564000010490417\n",
      "Epoch 39, CIFAR-10 Batch 1:  Loss: 0.5328474044799805 | Accuracy: 0.5514000058174133\n",
      "Epoch 40, CIFAR-10 Batch 1:  Loss: 0.5146136283874512 | Accuracy: 0.555400013923645\n",
      "Epoch 41, CIFAR-10 Batch 1:  Loss: 0.49977344274520874 | Accuracy: 0.5559999942779541\n",
      "Epoch 42, CIFAR-10 Batch 1:  Loss: 0.4693104028701782 | Accuracy: 0.557200014591217\n",
      "Epoch 43, CIFAR-10 Batch 1:  Loss: 0.4711829423904419 | Accuracy: 0.5555999875068665\n",
      "Epoch 44, CIFAR-10 Batch 1:  Loss: 0.4704432189464569 | Accuracy: 0.5591999888420105\n",
      "Epoch 45, CIFAR-10 Batch 1:  Loss: 0.46148681640625 | Accuracy: 0.5527999997138977\n",
      "Epoch 46, CIFAR-10 Batch 1:  Loss: 0.4598460793495178 | Accuracy: 0.5501999855041504\n",
      "Epoch 47, CIFAR-10 Batch 1:  Loss: 0.43854495882987976 | Accuracy: 0.5511999726295471\n",
      "Epoch 48, CIFAR-10 Batch 1:  Loss: 0.450519859790802 | Accuracy: 0.5473999977111816\n",
      "Epoch 49, CIFAR-10 Batch 1:  Loss: 0.44531920552253723 | Accuracy: 0.5468000173568726\n",
      "Epoch 50, CIFAR-10 Batch 1:  Loss: 0.4501153528690338 | Accuracy: 0.5432000160217285\n"
     ]
    }
   ],
   "source": [
    "\"\"\"\n",
    "DON'T MODIFY ANYTHING IN THIS CELL\n",
    "\"\"\"\n",
    "print('Checking the Training on a Single Batch...')\n",
    "with tf.Session() as sess:\n",
    "    # Initializing the variables\n",
    "    sess.run(tf.global_variables_initializer())\n",
    "    \n",
    "    # Training cycle\n",
    "    for epoch in range(epochs):\n",
    "        batch_i = 1\n",
    "        for batch_features, batch_labels in helper.load_preprocess_training_batch(batch_i, batch_size):\n",
    "            train_neural_network(sess, optimizer, keep_probability, batch_features, batch_labels)\n",
    "        print('Epoch {:>2}, CIFAR-10 Batch {}:  '.format(epoch + 1, batch_i), end='')\n",
    "        print_stats(sess, batch_features, batch_labels, cost, accuracy)"
   ]
  },
  {
   "cell_type": "markdown",
   "metadata": {},
   "source": [
    "### Fully Train the Model\n",
    "Now that you got a good accuracy with a single CIFAR-10 batch, try it with all five batches."
   ]
  },
  {
   "cell_type": "code",
   "execution_count": 17,
   "metadata": {},
   "outputs": [
    {
     "name": "stdout",
     "output_type": "stream",
     "text": [
      "Training...\n",
      "Epoch  1, CIFAR-10 Batch 1:  Loss: 2.1018807888031006 | Accuracy: 0.28040000796318054\n",
      "Epoch  1, CIFAR-10 Batch 2:  Loss: 1.8500114679336548 | Accuracy: 0.3596000075340271\n",
      "Epoch  1, CIFAR-10 Batch 3:  Loss: 1.654170274734497 | Accuracy: 0.39259999990463257\n",
      "Epoch  1, CIFAR-10 Batch 4:  Loss: 1.5994091033935547 | Accuracy: 0.42559999227523804\n",
      "Epoch  1, CIFAR-10 Batch 5:  Loss: 1.5764033794403076 | Accuracy: 0.4381999969482422\n",
      "Epoch  2, CIFAR-10 Batch 1:  Loss: 1.6151496171951294 | Accuracy: 0.4490000009536743\n",
      "Epoch  2, CIFAR-10 Batch 2:  Loss: 1.4468917846679688 | Accuracy: 0.4675999879837036\n",
      "Epoch  2, CIFAR-10 Batch 3:  Loss: 1.3238073587417603 | Accuracy: 0.47859999537467957\n",
      "Epoch  2, CIFAR-10 Batch 4:  Loss: 1.3485268354415894 | Accuracy: 0.501800000667572\n",
      "Epoch  2, CIFAR-10 Batch 5:  Loss: 1.384331464767456 | Accuracy: 0.4966000020503998\n",
      "Epoch  3, CIFAR-10 Batch 1:  Loss: 1.475603461265564 | Accuracy: 0.5080000162124634\n",
      "Epoch  3, CIFAR-10 Batch 2:  Loss: 1.3194804191589355 | Accuracy: 0.5170000195503235\n",
      "Epoch  3, CIFAR-10 Batch 3:  Loss: 1.227709412574768 | Accuracy: 0.5203999876976013\n",
      "Epoch  3, CIFAR-10 Batch 4:  Loss: 1.252087950706482 | Accuracy: 0.524399995803833\n",
      "Epoch  3, CIFAR-10 Batch 5:  Loss: 1.2917593717575073 | Accuracy: 0.5188000202178955\n",
      "Epoch  4, CIFAR-10 Batch 1:  Loss: 1.3885653018951416 | Accuracy: 0.5320000052452087\n",
      "Epoch  4, CIFAR-10 Batch 2:  Loss: 1.2381454706192017 | Accuracy: 0.5343999862670898\n",
      "Epoch  4, CIFAR-10 Batch 3:  Loss: 1.172057032585144 | Accuracy: 0.5400000214576721\n",
      "Epoch  4, CIFAR-10 Batch 4:  Loss: 1.1962987184524536 | Accuracy: 0.5428000092506409\n",
      "Epoch  4, CIFAR-10 Batch 5:  Loss: 1.2203459739685059 | Accuracy: 0.5424000024795532\n",
      "Epoch  5, CIFAR-10 Batch 1:  Loss: 1.322560429573059 | Accuracy: 0.5460000038146973\n",
      "Epoch  5, CIFAR-10 Batch 2:  Loss: 1.2056630849838257 | Accuracy: 0.5401999950408936\n",
      "Epoch  5, CIFAR-10 Batch 3:  Loss: 1.124354600906372 | Accuracy: 0.5519999861717224\n",
      "Epoch  5, CIFAR-10 Batch 4:  Loss: 1.1497048139572144 | Accuracy: 0.5527999997138977\n",
      "Epoch  5, CIFAR-10 Batch 5:  Loss: 1.169769048690796 | Accuracy: 0.5523999929428101\n",
      "Epoch  6, CIFAR-10 Batch 1:  Loss: 1.2719424962997437 | Accuracy: 0.550000011920929\n",
      "Epoch  6, CIFAR-10 Batch 2:  Loss: 1.1494008302688599 | Accuracy: 0.5600000023841858\n",
      "Epoch  6, CIFAR-10 Batch 3:  Loss: 1.0878496170043945 | Accuracy: 0.567799985408783\n",
      "Epoch  6, CIFAR-10 Batch 4:  Loss: 1.1226390600204468 | Accuracy: 0.5627999901771545\n",
      "Epoch  6, CIFAR-10 Batch 5:  Loss: 1.1422609090805054 | Accuracy: 0.5612000226974487\n",
      "Epoch  7, CIFAR-10 Batch 1:  Loss: 1.2375839948654175 | Accuracy: 0.5667999982833862\n",
      "Epoch  7, CIFAR-10 Batch 2:  Loss: 1.1013545989990234 | Accuracy: 0.567799985408783\n",
      "Epoch  7, CIFAR-10 Batch 3:  Loss: 1.0708487033843994 | Accuracy: 0.567799985408783\n",
      "Epoch  7, CIFAR-10 Batch 4:  Loss: 1.0797096490859985 | Accuracy: 0.5726000070571899\n",
      "Epoch  7, CIFAR-10 Batch 5:  Loss: 1.1085913181304932 | Accuracy: 0.5680000185966492\n",
      "Epoch  8, CIFAR-10 Batch 1:  Loss: 1.2052727937698364 | Accuracy: 0.5694000124931335\n",
      "Epoch  8, CIFAR-10 Batch 2:  Loss: 1.0719319581985474 | Accuracy: 0.5748000144958496\n",
      "Epoch  8, CIFAR-10 Batch 3:  Loss: 1.0422706604003906 | Accuracy: 0.5722000002861023\n",
      "Epoch  8, CIFAR-10 Batch 4:  Loss: 1.055704116821289 | Accuracy: 0.5745999813079834\n",
      "Epoch  8, CIFAR-10 Batch 5:  Loss: 1.0766708850860596 | Accuracy: 0.5767999887466431\n",
      "Epoch  9, CIFAR-10 Batch 1:  Loss: 1.1842256784439087 | Accuracy: 0.5781999826431274\n",
      "Epoch  9, CIFAR-10 Batch 2:  Loss: 1.0575677156448364 | Accuracy: 0.5770000219345093\n",
      "Epoch  9, CIFAR-10 Batch 3:  Loss: 1.0076688528060913 | Accuracy: 0.5813999772071838\n",
      "Epoch  9, CIFAR-10 Batch 4:  Loss: 1.03694486618042 | Accuracy: 0.5856000185012817\n",
      "Epoch  9, CIFAR-10 Batch 5:  Loss: 1.0389126539230347 | Accuracy: 0.5834000110626221\n",
      "Epoch 10, CIFAR-10 Batch 1:  Loss: 1.1385442018508911 | Accuracy: 0.5871999859809875\n",
      "Epoch 10, CIFAR-10 Batch 2:  Loss: 1.0265655517578125 | Accuracy: 0.5863999724388123\n",
      "Epoch 10, CIFAR-10 Batch 3:  Loss: 0.9884202480316162 | Accuracy: 0.5911999940872192\n",
      "Epoch 10, CIFAR-10 Batch 4:  Loss: 1.014832615852356 | Accuracy: 0.5871999859809875\n",
      "Epoch 10, CIFAR-10 Batch 5:  Loss: 1.0090863704681396 | Accuracy: 0.5946000218391418\n",
      "Epoch 11, CIFAR-10 Batch 1:  Loss: 1.1092934608459473 | Accuracy: 0.5896000266075134\n",
      "Epoch 11, CIFAR-10 Batch 2:  Loss: 1.0202138423919678 | Accuracy: 0.5878000259399414\n",
      "Epoch 11, CIFAR-10 Batch 3:  Loss: 0.9535272717475891 | Accuracy: 0.5916000008583069\n",
      "Epoch 11, CIFAR-10 Batch 4:  Loss: 0.979805588722229 | Accuracy: 0.5974000096321106\n",
      "Epoch 11, CIFAR-10 Batch 5:  Loss: 0.975332498550415 | Accuracy: 0.6021999716758728\n",
      "Epoch 12, CIFAR-10 Batch 1:  Loss: 1.0892119407653809 | Accuracy: 0.5889999866485596\n",
      "Epoch 12, CIFAR-10 Batch 2:  Loss: 1.0017186403274536 | Accuracy: 0.593999981880188\n",
      "Epoch 12, CIFAR-10 Batch 3:  Loss: 0.9220708608627319 | Accuracy: 0.6021999716758728\n",
      "Epoch 12, CIFAR-10 Batch 4:  Loss: 0.9726743102073669 | Accuracy: 0.597599983215332\n",
      "Epoch 12, CIFAR-10 Batch 5:  Loss: 0.9593775868415833 | Accuracy: 0.6007999777793884\n",
      "Epoch 13, CIFAR-10 Batch 1:  Loss: 1.0591195821762085 | Accuracy: 0.6057999730110168\n",
      "Epoch 13, CIFAR-10 Batch 2:  Loss: 0.9671591520309448 | Accuracy: 0.6028000116348267\n",
      "Epoch 13, CIFAR-10 Batch 3:  Loss: 0.9079360961914062 | Accuracy: 0.6092000007629395\n",
      "Epoch 13, CIFAR-10 Batch 4:  Loss: 0.9519903063774109 | Accuracy: 0.6050000190734863\n",
      "Epoch 13, CIFAR-10 Batch 5:  Loss: 0.9425578713417053 | Accuracy: 0.605400025844574\n",
      "Epoch 14, CIFAR-10 Batch 1:  Loss: 1.0495189428329468 | Accuracy: 0.6007999777793884\n",
      "Epoch 14, CIFAR-10 Batch 2:  Loss: 0.9729703664779663 | Accuracy: 0.599399983882904\n",
      "Epoch 14, CIFAR-10 Batch 3:  Loss: 0.9194979071617126 | Accuracy: 0.5968000292778015\n",
      "Epoch 14, CIFAR-10 Batch 4:  Loss: 0.9307629466056824 | Accuracy: 0.6092000007629395\n",
      "Epoch 14, CIFAR-10 Batch 5:  Loss: 0.9318485856056213 | Accuracy: 0.6101999878883362\n",
      "Epoch 15, CIFAR-10 Batch 1:  Loss: 1.0300637483596802 | Accuracy: 0.6082000136375427\n",
      "Epoch 15, CIFAR-10 Batch 2:  Loss: 0.9667255282402039 | Accuracy: 0.5982000231742859\n",
      "Epoch 15, CIFAR-10 Batch 3:  Loss: 0.9579607248306274 | Accuracy: 0.5947999954223633\n",
      "Epoch 15, CIFAR-10 Batch 4:  Loss: 0.9225465655326843 | Accuracy: 0.6057999730110168\n",
      "Epoch 15, CIFAR-10 Batch 5:  Loss: 0.9113456010818481 | Accuracy: 0.6141999959945679\n",
      "Epoch 16, CIFAR-10 Batch 1:  Loss: 1.0190410614013672 | Accuracy: 0.6154000163078308\n",
      "Epoch 16, CIFAR-10 Batch 2:  Loss: 0.9502571821212769 | Accuracy: 0.6083999872207642\n",
      "Epoch 16, CIFAR-10 Batch 3:  Loss: 0.9005471467971802 | Accuracy: 0.6050000190734863\n",
      "Epoch 16, CIFAR-10 Batch 4:  Loss: 0.9044973254203796 | Accuracy: 0.6146000027656555\n",
      "Epoch 16, CIFAR-10 Batch 5:  Loss: 0.8948727250099182 | Accuracy: 0.6169999837875366\n",
      "Epoch 17, CIFAR-10 Batch 1:  Loss: 1.0170748233795166 | Accuracy: 0.6101999878883362\n",
      "Epoch 17, CIFAR-10 Batch 2:  Loss: 0.9398752450942993 | Accuracy: 0.6168000102043152\n",
      "Epoch 17, CIFAR-10 Batch 3:  Loss: 0.9022985696792603 | Accuracy: 0.6051999926567078\n",
      "Epoch 17, CIFAR-10 Batch 4:  Loss: 0.9004078507423401 | Accuracy: 0.6129999756813049\n",
      "Epoch 17, CIFAR-10 Batch 5:  Loss: 0.8786218762397766 | Accuracy: 0.6151999831199646\n",
      "Epoch 18, CIFAR-10 Batch 1:  Loss: 1.0040104389190674 | Accuracy: 0.6146000027656555\n",
      "Epoch 18, CIFAR-10 Batch 2:  Loss: 0.930598795413971 | Accuracy: 0.6129999756813049\n",
      "Epoch 18, CIFAR-10 Batch 3:  Loss: 0.8751470446586609 | Accuracy: 0.6047999858856201\n",
      "Epoch 18, CIFAR-10 Batch 4:  Loss: 0.8871469497680664 | Accuracy: 0.6204000115394592\n",
      "Epoch 18, CIFAR-10 Batch 5:  Loss: 0.8704549670219421 | Accuracy: 0.6168000102043152\n",
      "Epoch 19, CIFAR-10 Batch 1:  Loss: 0.997248649597168 | Accuracy: 0.623199999332428\n",
      "Epoch 19, CIFAR-10 Batch 2:  Loss: 0.9389598965644836 | Accuracy: 0.5902000069618225\n",
      "Epoch 19, CIFAR-10 Batch 3:  Loss: 0.8573124408721924 | Accuracy: 0.6151999831199646\n",
      "Epoch 19, CIFAR-10 Batch 4:  Loss: 0.8640430569648743 | Accuracy: 0.6240000128746033\n",
      "Epoch 19, CIFAR-10 Batch 5:  Loss: 0.8539357781410217 | Accuracy: 0.628000020980835\n",
      "Epoch 20, CIFAR-10 Batch 1:  Loss: 0.9825454950332642 | Accuracy: 0.6209999918937683\n",
      "Epoch 20, CIFAR-10 Batch 2:  Loss: 0.8913720846176147 | Accuracy: 0.6110000014305115\n"
     ]
    },
    {
     "name": "stdout",
     "output_type": "stream",
     "text": [
      "Epoch 20, CIFAR-10 Batch 3:  Loss: 0.8229864239692688 | Accuracy: 0.6227999925613403\n",
      "Epoch 20, CIFAR-10 Batch 4:  Loss: 0.8332245349884033 | Accuracy: 0.6304000020027161\n",
      "Epoch 20, CIFAR-10 Batch 5:  Loss: 0.8460633754730225 | Accuracy: 0.6263999938964844\n",
      "Epoch 21, CIFAR-10 Batch 1:  Loss: 0.9711858630180359 | Accuracy: 0.618399977684021\n",
      "Epoch 21, CIFAR-10 Batch 2:  Loss: 0.8906261324882507 | Accuracy: 0.6087999939918518\n",
      "Epoch 21, CIFAR-10 Batch 3:  Loss: 0.8190189003944397 | Accuracy: 0.6208000183105469\n",
      "Epoch 21, CIFAR-10 Batch 4:  Loss: 0.8360588550567627 | Accuracy: 0.6284000277519226\n",
      "Epoch 21, CIFAR-10 Batch 5:  Loss: 0.8401000499725342 | Accuracy: 0.6276000142097473\n",
      "Epoch 22, CIFAR-10 Batch 1:  Loss: 0.9510799050331116 | Accuracy: 0.6273999810218811\n",
      "Epoch 22, CIFAR-10 Batch 2:  Loss: 0.8633989095687866 | Accuracy: 0.6164000034332275\n",
      "Epoch 22, CIFAR-10 Batch 3:  Loss: 0.8454352021217346 | Accuracy: 0.6132000088691711\n",
      "Epoch 22, CIFAR-10 Batch 4:  Loss: 0.8188233375549316 | Accuracy: 0.6376000046730042\n",
      "Epoch 22, CIFAR-10 Batch 5:  Loss: 0.825869083404541 | Accuracy: 0.6327999830245972\n",
      "Epoch 23, CIFAR-10 Batch 1:  Loss: 0.932202935218811 | Accuracy: 0.6281999945640564\n",
      "Epoch 23, CIFAR-10 Batch 2:  Loss: 0.881084144115448 | Accuracy: 0.6010000109672546\n",
      "Epoch 23, CIFAR-10 Batch 3:  Loss: 0.8133025169372559 | Accuracy: 0.6179999709129333\n",
      "Epoch 23, CIFAR-10 Batch 4:  Loss: 0.8000108599662781 | Accuracy: 0.6227999925613403\n",
      "Epoch 23, CIFAR-10 Batch 5:  Loss: 0.8245973587036133 | Accuracy: 0.623199999332428\n",
      "Epoch 24, CIFAR-10 Batch 1:  Loss: 0.9350789785385132 | Accuracy: 0.6255999803543091\n",
      "Epoch 24, CIFAR-10 Batch 2:  Loss: 0.8818961381912231 | Accuracy: 0.6018000245094299\n",
      "Epoch 24, CIFAR-10 Batch 3:  Loss: 0.7947590351104736 | Accuracy: 0.6263999938964844\n",
      "Epoch 24, CIFAR-10 Batch 4:  Loss: 0.7945680618286133 | Accuracy: 0.6326000094413757\n",
      "Epoch 24, CIFAR-10 Batch 5:  Loss: 0.8021025657653809 | Accuracy: 0.6276000142097473\n",
      "Epoch 25, CIFAR-10 Batch 1:  Loss: 0.9110614657402039 | Accuracy: 0.6295999884605408\n",
      "Epoch 25, CIFAR-10 Batch 2:  Loss: 0.846098005771637 | Accuracy: 0.6200000047683716\n",
      "Epoch 25, CIFAR-10 Batch 3:  Loss: 0.7825604677200317 | Accuracy: 0.6173999905586243\n",
      "Epoch 25, CIFAR-10 Batch 4:  Loss: 0.7653303146362305 | Accuracy: 0.6335999965667725\n",
      "Epoch 25, CIFAR-10 Batch 5:  Loss: 0.80023592710495 | Accuracy: 0.6230000257492065\n",
      "Epoch 26, CIFAR-10 Batch 1:  Loss: 0.930984377861023 | Accuracy: 0.6190000176429749\n",
      "Epoch 26, CIFAR-10 Batch 2:  Loss: 0.8239431381225586 | Accuracy: 0.6294000148773193\n",
      "Epoch 26, CIFAR-10 Batch 3:  Loss: 0.7857934236526489 | Accuracy: 0.6161999702453613\n",
      "Epoch 26, CIFAR-10 Batch 4:  Loss: 0.7724454998970032 | Accuracy: 0.6330000162124634\n",
      "Epoch 26, CIFAR-10 Batch 5:  Loss: 0.7842248678207397 | Accuracy: 0.6322000026702881\n",
      "Epoch 27, CIFAR-10 Batch 1:  Loss: 0.9299585223197937 | Accuracy: 0.6273999810218811\n",
      "Epoch 27, CIFAR-10 Batch 2:  Loss: 0.7965219020843506 | Accuracy: 0.628600001335144\n",
      "Epoch 27, CIFAR-10 Batch 3:  Loss: 0.7759523987770081 | Accuracy: 0.6233999729156494\n",
      "Epoch 27, CIFAR-10 Batch 4:  Loss: 0.7738836407661438 | Accuracy: 0.6295999884605408\n",
      "Epoch 27, CIFAR-10 Batch 5:  Loss: 0.7783267498016357 | Accuracy: 0.6291999816894531\n",
      "Epoch 28, CIFAR-10 Batch 1:  Loss: 0.9104368686676025 | Accuracy: 0.6287999749183655\n",
      "Epoch 28, CIFAR-10 Batch 2:  Loss: 0.7889472842216492 | Accuracy: 0.6305999755859375\n",
      "Epoch 28, CIFAR-10 Batch 3:  Loss: 0.7337056994438171 | Accuracy: 0.621999979019165\n",
      "Epoch 28, CIFAR-10 Batch 4:  Loss: 0.7656599879264832 | Accuracy: 0.6376000046730042\n",
      "Epoch 28, CIFAR-10 Batch 5:  Loss: 0.7562720775604248 | Accuracy: 0.6388000249862671\n",
      "Epoch 29, CIFAR-10 Batch 1:  Loss: 0.8841108083724976 | Accuracy: 0.6340000033378601\n",
      "Epoch 29, CIFAR-10 Batch 2:  Loss: 0.7914684414863586 | Accuracy: 0.6276000142097473\n",
      "Epoch 29, CIFAR-10 Batch 3:  Loss: 0.757750928401947 | Accuracy: 0.6236000061035156\n",
      "Epoch 29, CIFAR-10 Batch 4:  Loss: 0.7474918365478516 | Accuracy: 0.6331999897956848\n",
      "Epoch 29, CIFAR-10 Batch 5:  Loss: 0.7613656520843506 | Accuracy: 0.6407999992370605\n",
      "Epoch 30, CIFAR-10 Batch 1:  Loss: 0.8900699019432068 | Accuracy: 0.6281999945640564\n",
      "Epoch 30, CIFAR-10 Batch 2:  Loss: 0.7749230861663818 | Accuracy: 0.6251999735832214\n",
      "Epoch 30, CIFAR-10 Batch 3:  Loss: 0.7556208372116089 | Accuracy: 0.6287999749183655\n",
      "Epoch 30, CIFAR-10 Batch 4:  Loss: 0.7445172667503357 | Accuracy: 0.635200023651123\n",
      "Epoch 30, CIFAR-10 Batch 5:  Loss: 0.7421683073043823 | Accuracy: 0.6353999972343445\n",
      "Epoch 31, CIFAR-10 Batch 1:  Loss: 0.8812599182128906 | Accuracy: 0.6308000087738037\n",
      "Epoch 31, CIFAR-10 Batch 2:  Loss: 0.764298677444458 | Accuracy: 0.6338000297546387\n",
      "Epoch 31, CIFAR-10 Batch 3:  Loss: 0.7466437816619873 | Accuracy: 0.6255999803543091\n",
      "Epoch 31, CIFAR-10 Batch 4:  Loss: 0.7285006642341614 | Accuracy: 0.6313999891281128\n",
      "Epoch 31, CIFAR-10 Batch 5:  Loss: 0.746821939945221 | Accuracy: 0.6376000046730042\n",
      "Epoch 32, CIFAR-10 Batch 1:  Loss: 0.8658055663108826 | Accuracy: 0.6376000046730042\n",
      "Epoch 32, CIFAR-10 Batch 2:  Loss: 0.7505960464477539 | Accuracy: 0.6358000040054321\n",
      "Epoch 32, CIFAR-10 Batch 3:  Loss: 0.7053254842758179 | Accuracy: 0.6371999979019165\n",
      "Epoch 32, CIFAR-10 Batch 4:  Loss: 0.7122678756713867 | Accuracy: 0.6384000182151794\n",
      "Epoch 32, CIFAR-10 Batch 5:  Loss: 0.7322332262992859 | Accuracy: 0.6362000107765198\n",
      "Epoch 33, CIFAR-10 Batch 1:  Loss: 0.8614688515663147 | Accuracy: 0.6359999775886536\n",
      "Epoch 33, CIFAR-10 Batch 2:  Loss: 0.7471523880958557 | Accuracy: 0.6371999979019165\n",
      "Epoch 33, CIFAR-10 Batch 3:  Loss: 0.7082644104957581 | Accuracy: 0.6327999830245972\n",
      "Epoch 33, CIFAR-10 Batch 4:  Loss: 0.7010019421577454 | Accuracy: 0.6407999992370605\n",
      "Epoch 33, CIFAR-10 Batch 5:  Loss: 0.7290988564491272 | Accuracy: 0.6376000046730042\n",
      "Epoch 34, CIFAR-10 Batch 1:  Loss: 0.8535684943199158 | Accuracy: 0.6327999830245972\n",
      "Epoch 34, CIFAR-10 Batch 2:  Loss: 0.7277413010597229 | Accuracy: 0.6395999789237976\n",
      "Epoch 34, CIFAR-10 Batch 3:  Loss: 0.7191920876502991 | Accuracy: 0.6290000081062317\n",
      "Epoch 34, CIFAR-10 Batch 4:  Loss: 0.7118541598320007 | Accuracy: 0.6344000101089478\n",
      "Epoch 34, CIFAR-10 Batch 5:  Loss: 0.7000520825386047 | Accuracy: 0.6417999863624573\n",
      "Epoch 35, CIFAR-10 Batch 1:  Loss: 0.8490393161773682 | Accuracy: 0.6355999708175659\n",
      "Epoch 35, CIFAR-10 Batch 2:  Loss: 0.7237403392791748 | Accuracy: 0.6424000263214111\n",
      "Epoch 35, CIFAR-10 Batch 3:  Loss: 0.7225145101547241 | Accuracy: 0.6240000128746033\n",
      "Epoch 35, CIFAR-10 Batch 4:  Loss: 0.713363528251648 | Accuracy: 0.6309999823570251\n",
      "Epoch 35, CIFAR-10 Batch 5:  Loss: 0.7037855386734009 | Accuracy: 0.6398000121116638\n",
      "Epoch 36, CIFAR-10 Batch 1:  Loss: 0.8406344056129456 | Accuracy: 0.6371999979019165\n",
      "Epoch 36, CIFAR-10 Batch 2:  Loss: 0.7109285593032837 | Accuracy: 0.640999972820282\n",
      "Epoch 36, CIFAR-10 Batch 3:  Loss: 0.6716715097427368 | Accuracy: 0.6425999999046326\n",
      "Epoch 36, CIFAR-10 Batch 4:  Loss: 0.6819464564323425 | Accuracy: 0.6389999985694885\n",
      "Epoch 36, CIFAR-10 Batch 5:  Loss: 0.7006093263626099 | Accuracy: 0.6373999714851379\n",
      "Epoch 37, CIFAR-10 Batch 1:  Loss: 0.8329113125801086 | Accuracy: 0.6330000162124634\n",
      "Epoch 37, CIFAR-10 Batch 2:  Loss: 0.7012922167778015 | Accuracy: 0.6371999979019165\n",
      "Epoch 37, CIFAR-10 Batch 3:  Loss: 0.7009811401367188 | Accuracy: 0.6290000081062317\n",
      "Epoch 37, CIFAR-10 Batch 4:  Loss: 0.669015109539032 | Accuracy: 0.6406000256538391\n",
      "Epoch 37, CIFAR-10 Batch 5:  Loss: 0.6827560663223267 | Accuracy: 0.6421999931335449\n",
      "Epoch 38, CIFAR-10 Batch 1:  Loss: 0.8191652297973633 | Accuracy: 0.6335999965667725\n",
      "Epoch 38, CIFAR-10 Batch 2:  Loss: 0.7025485038757324 | Accuracy: 0.6449999809265137\n",
      "Epoch 38, CIFAR-10 Batch 3:  Loss: 0.6720852255821228 | Accuracy: 0.6388000249862671\n",
      "Epoch 38, CIFAR-10 Batch 4:  Loss: 0.680312991142273 | Accuracy: 0.6322000026702881\n",
      "Epoch 38, CIFAR-10 Batch 5:  Loss: 0.672539472579956 | Accuracy: 0.6478000283241272\n",
      "Epoch 39, CIFAR-10 Batch 1:  Loss: 0.8161687254905701 | Accuracy: 0.6420000195503235\n",
      "Epoch 39, CIFAR-10 Batch 2:  Loss: 0.7033886909484863 | Accuracy: 0.6389999985694885\n",
      "Epoch 39, CIFAR-10 Batch 3:  Loss: 0.653647780418396 | Accuracy: 0.6406000256538391\n",
      "Epoch 39, CIFAR-10 Batch 4:  Loss: 0.6715520620346069 | Accuracy: 0.6335999965667725\n"
     ]
    },
    {
     "name": "stdout",
     "output_type": "stream",
     "text": [
      "Epoch 39, CIFAR-10 Batch 5:  Loss: 0.6769925951957703 | Accuracy: 0.6406000256538391\n",
      "Epoch 40, CIFAR-10 Batch 1:  Loss: 0.8061839938163757 | Accuracy: 0.6367999911308289\n",
      "Epoch 40, CIFAR-10 Batch 2:  Loss: 0.6877999305725098 | Accuracy: 0.6484000086784363\n",
      "Epoch 40, CIFAR-10 Batch 3:  Loss: 0.6408883929252625 | Accuracy: 0.6462000012397766\n",
      "Epoch 40, CIFAR-10 Batch 4:  Loss: 0.6433237195014954 | Accuracy: 0.6395999789237976\n",
      "Epoch 40, CIFAR-10 Batch 5:  Loss: 0.6591513156890869 | Accuracy: 0.6485999822616577\n",
      "Epoch 41, CIFAR-10 Batch 1:  Loss: 0.7767572402954102 | Accuracy: 0.6460000276565552\n",
      "Epoch 41, CIFAR-10 Batch 2:  Loss: 0.6697477102279663 | Accuracy: 0.6480000019073486\n",
      "Epoch 41, CIFAR-10 Batch 3:  Loss: 0.620567262172699 | Accuracy: 0.6462000012397766\n",
      "Epoch 41, CIFAR-10 Batch 4:  Loss: 0.6336103677749634 | Accuracy: 0.6435999870300293\n",
      "Epoch 41, CIFAR-10 Batch 5:  Loss: 0.6444227695465088 | Accuracy: 0.6499999761581421\n",
      "Epoch 42, CIFAR-10 Batch 1:  Loss: 0.781089186668396 | Accuracy: 0.6406000256538391\n",
      "Epoch 42, CIFAR-10 Batch 2:  Loss: 0.6525497436523438 | Accuracy: 0.6485999822616577\n",
      "Epoch 42, CIFAR-10 Batch 3:  Loss: 0.6368405222892761 | Accuracy: 0.6449999809265137\n",
      "Epoch 42, CIFAR-10 Batch 4:  Loss: 0.6377285718917847 | Accuracy: 0.6338000297546387\n",
      "Epoch 42, CIFAR-10 Batch 5:  Loss: 0.645550549030304 | Accuracy: 0.6570000052452087\n",
      "Epoch 43, CIFAR-10 Batch 1:  Loss: 0.7735651135444641 | Accuracy: 0.6449999809265137\n",
      "Epoch 43, CIFAR-10 Batch 2:  Loss: 0.6568565368652344 | Accuracy: 0.6481999754905701\n",
      "Epoch 43, CIFAR-10 Batch 3:  Loss: 0.6223730444908142 | Accuracy: 0.6449999809265137\n",
      "Epoch 43, CIFAR-10 Batch 4:  Loss: 0.6131075024604797 | Accuracy: 0.6417999863624573\n",
      "Epoch 43, CIFAR-10 Batch 5:  Loss: 0.6298716068267822 | Accuracy: 0.650600016117096\n",
      "Epoch 44, CIFAR-10 Batch 1:  Loss: 0.7524596452713013 | Accuracy: 0.6466000080108643\n",
      "Epoch 44, CIFAR-10 Batch 2:  Loss: 0.6521109342575073 | Accuracy: 0.65420001745224\n",
      "Epoch 44, CIFAR-10 Batch 3:  Loss: 0.6157649755477905 | Accuracy: 0.647599995136261\n",
      "Epoch 44, CIFAR-10 Batch 4:  Loss: 0.6107710003852844 | Accuracy: 0.640999972820282\n",
      "Epoch 44, CIFAR-10 Batch 5:  Loss: 0.6223504543304443 | Accuracy: 0.6514000296592712\n",
      "Epoch 45, CIFAR-10 Batch 1:  Loss: 0.7411348223686218 | Accuracy: 0.6420000195503235\n",
      "Epoch 45, CIFAR-10 Batch 2:  Loss: 0.6469781994819641 | Accuracy: 0.646399974822998\n",
      "Epoch 45, CIFAR-10 Batch 3:  Loss: 0.6035184264183044 | Accuracy: 0.6453999876976013\n",
      "Epoch 45, CIFAR-10 Batch 4:  Loss: 0.5977057814598083 | Accuracy: 0.6462000012397766\n",
      "Epoch 45, CIFAR-10 Batch 5:  Loss: 0.6153554320335388 | Accuracy: 0.6480000019073486\n",
      "Epoch 46, CIFAR-10 Batch 1:  Loss: 0.7603791952133179 | Accuracy: 0.6377999782562256\n",
      "Epoch 46, CIFAR-10 Batch 2:  Loss: 0.6258676648139954 | Accuracy: 0.6570000052452087\n",
      "Epoch 46, CIFAR-10 Batch 3:  Loss: 0.6125863194465637 | Accuracy: 0.6470000147819519\n",
      "Epoch 46, CIFAR-10 Batch 4:  Loss: 0.5916053652763367 | Accuracy: 0.6413999795913696\n",
      "Epoch 46, CIFAR-10 Batch 5:  Loss: 0.613537073135376 | Accuracy: 0.6498000025749207\n",
      "Epoch 47, CIFAR-10 Batch 1:  Loss: 0.7428130507469177 | Accuracy: 0.6510000228881836\n",
      "Epoch 47, CIFAR-10 Batch 2:  Loss: 0.637201189994812 | Accuracy: 0.6547999978065491\n",
      "Epoch 47, CIFAR-10 Batch 3:  Loss: 0.5941938161849976 | Accuracy: 0.6462000012397766\n",
      "Epoch 47, CIFAR-10 Batch 4:  Loss: 0.5929070711135864 | Accuracy: 0.6503999829292297\n",
      "Epoch 47, CIFAR-10 Batch 5:  Loss: 0.6005640029907227 | Accuracy: 0.6539999842643738\n",
      "Epoch 48, CIFAR-10 Batch 1:  Loss: 0.7242112159729004 | Accuracy: 0.6496000289916992\n",
      "Epoch 48, CIFAR-10 Batch 2:  Loss: 0.6168664693832397 | Accuracy: 0.6521999835968018\n",
      "Epoch 48, CIFAR-10 Batch 3:  Loss: 0.5854368209838867 | Accuracy: 0.650600016117096\n",
      "Epoch 48, CIFAR-10 Batch 4:  Loss: 0.5754492282867432 | Accuracy: 0.6499999761581421\n",
      "Epoch 48, CIFAR-10 Batch 5:  Loss: 0.5865926146507263 | Accuracy: 0.6571999788284302\n",
      "Epoch 49, CIFAR-10 Batch 1:  Loss: 0.7096277475357056 | Accuracy: 0.6538000106811523\n",
      "Epoch 49, CIFAR-10 Batch 2:  Loss: 0.6102238297462463 | Accuracy: 0.6557999849319458\n",
      "Epoch 49, CIFAR-10 Batch 3:  Loss: 0.5847129821777344 | Accuracy: 0.646399974822998\n",
      "Epoch 49, CIFAR-10 Batch 4:  Loss: 0.5618334412574768 | Accuracy: 0.6521999835968018\n",
      "Epoch 49, CIFAR-10 Batch 5:  Loss: 0.6003072261810303 | Accuracy: 0.645799994468689\n",
      "Epoch 50, CIFAR-10 Batch 1:  Loss: 0.724197268486023 | Accuracy: 0.6480000019073486\n",
      "Epoch 50, CIFAR-10 Batch 2:  Loss: 0.6094444990158081 | Accuracy: 0.6538000106811523\n",
      "Epoch 50, CIFAR-10 Batch 3:  Loss: 0.5554859638214111 | Accuracy: 0.6592000126838684\n",
      "Epoch 50, CIFAR-10 Batch 4:  Loss: 0.5662675499916077 | Accuracy: 0.6503999829292297\n",
      "Epoch 50, CIFAR-10 Batch 5:  Loss: 0.5669116973876953 | Accuracy: 0.6570000052452087\n"
     ]
    }
   ],
   "source": [
    "\"\"\"\n",
    "DON'T MODIFY ANYTHING IN THIS CELL\n",
    "\"\"\"\n",
    "save_model_path = './image_classification'\n",
    "\n",
    "print('Training...')\n",
    "with tf.Session() as sess:\n",
    "    # Initializing the variables\n",
    "    sess.run(tf.global_variables_initializer())\n",
    "    \n",
    "    # Training cycle\n",
    "    for epoch in range(epochs):\n",
    "        # Loop over all batches\n",
    "        n_batches = 5\n",
    "        for batch_i in range(1, n_batches + 1):\n",
    "            for batch_features, batch_labels in helper.load_preprocess_training_batch(batch_i, batch_size):\n",
    "                train_neural_network(sess, optimizer, keep_probability, batch_features, batch_labels)\n",
    "            print('Epoch {:>2}, CIFAR-10 Batch {}:  '.format(epoch + 1, batch_i), end='')\n",
    "            print_stats(sess, batch_features, batch_labels, cost, accuracy)\n",
    "            \n",
    "    # Save Model\n",
    "    saver = tf.train.Saver()\n",
    "    save_path = saver.save(sess, save_model_path)"
   ]
  },
  {
   "cell_type": "markdown",
   "metadata": {},
   "source": [
    "# Checkpoint\n",
    "The model has been saved to disk.\n",
    "## Test Model\n",
    "Test your model against the test dataset.  This will be your final accuracy. You should have an accuracy greater than 50%. If you don't, keep tweaking the model architecture and parameters."
   ]
  },
  {
   "cell_type": "code",
   "execution_count": 18,
   "metadata": {},
   "outputs": [
    {
     "name": "stdout",
     "output_type": "stream",
     "text": [
      "INFO:tensorflow:Restoring parameters from ./image_classification\n",
      "Testing Accuracy: 0.6512810200452804\n",
      "\n"
     ]
    },
    {
     "data": {
      "image/png": "[encoded data removed]",
      "text/plain": [
       "<matplotlib.figure.Figure at 0x11707c0f0>"
      ]
     },
     "metadata": {
      "image/png": {
       "height": 319,
       "width": 355
      }
     },
     "output_type": "display_data"
    }
   ],
   "source": [
    "\"\"\"\n",
    "DON'T MODIFY ANYTHING IN THIS CELL\n",
    "\"\"\"\n",
    "%matplotlib inline\n",
    "%config InlineBackend.figure_format = 'retina'\n",
    "\n",
    "import tensorflow as tf\n",
    "import pickle\n",
    "import helper\n",
    "import random\n",
    "\n",
    "# Set batch size if not already set\n",
    "try:\n",
    "    if batch_size:\n",
    "        pass\n",
    "except NameError:\n",
    "    batch_size = 64\n",
    "\n",
    "save_model_path = './image_classification'\n",
    "n_samples = 4\n",
    "top_n_predictions = 3\n",
    "\n",
    "def test_model():\n",
    "    \"\"\"\n",
    "    Test the saved model against the test dataset\n",
    "    \"\"\"\n",
    "\n",
    "    test_features, test_labels = pickle.load(open('preprocess_test.p', mode='rb'))\n",
    "    loaded_graph = tf.Graph()\n",
    "\n",
    "    with tf.Session(graph=loaded_graph) as sess:\n",
    "        # Load model\n",
    "        loader = tf.train.import_meta_graph(save_model_path + '.meta')\n",
    "        loader.restore(sess, save_model_path)\n",
    "\n",
    "        # Get Tensors from loaded model\n",
    "        loaded_x = loaded_graph.get_tensor_by_name('x:0')\n",
    "        loaded_y = loaded_graph.get_tensor_by_name('y:0')\n",
    "        loaded_keep_prob = loaded_graph.get_tensor_by_name('keep_prob:0')\n",
    "        loaded_logits = loaded_graph.get_tensor_by_name('logits:0')\n",
    "        loaded_acc = loaded_graph.get_tensor_by_name('accuracy:0')\n",
    "        \n",
    "        # Get accuracy in batches for memory limitations\n",
    "        test_batch_acc_total = 0\n",
    "        test_batch_count = 0\n",
    "        \n",
    "        for test_feature_batch, test_label_batch in helper.batch_features_labels(test_features, test_labels, batch_size):\n",
    "            test_batch_acc_total += sess.run(\n",
    "                loaded_acc,\n",
    "                feed_dict={loaded_x: test_feature_batch, loaded_y: test_label_batch, loaded_keep_prob: 1.0})\n",
    "            test_batch_count += 1\n",
    "\n",
    "        print('Testing Accuracy: {}\\n'.format(test_batch_acc_total/test_batch_count))\n",
    "\n",
    "        # Print Random Samples\n",
    "        random_test_features, random_test_labels = tuple(zip(*random.sample(list(zip(test_features, test_labels)), n_samples)))\n",
    "        random_test_predictions = sess.run(\n",
    "            tf.nn.top_k(tf.nn.softmax(loaded_logits), top_n_predictions),\n",
    "            feed_dict={loaded_x: random_test_features, loaded_y: random_test_labels, loaded_keep_prob: 1.0})\n",
    "        helper.display_image_predictions(random_test_features, random_test_labels, random_test_predictions)\n",
    "\n",
    "\n",
    "test_model()"
   ]
  },
  {
   "cell_type": "markdown",
   "metadata": {},
   "source": [
    "## Why 50-80% Accuracy?\n",
    "You might be wondering why you can't get an accuracy any higher. First things first, 50% isn't bad for a simple CNN.  Pure guessing would get you 10% accuracy. However, you might notice people are getting scores [well above 80%](http://rodrigob.github.io/are_we_there_yet/build/classification_datasets_results.html#43494641522d3130).  That's because we haven't taught you all there is to know about neural networks. We still need to cover a few more techniques.\n",
    "## Submitting This Project\n",
    "When submitting this project, make sure to run all the cells before saving the notebook.  Save the notebook file as \"dlnd_image_classification.ipynb\" and save it as a HTML file under \"File\" -> \"Download as\".  Include the \"helper.py\" and \"problem_unittests.py\" files in your submission."
   ]
  }
 ],
 "metadata": {
  "kernelspec": {
   "display_name": "Python 3",
   "language": "python",
   "name": "python3"
  },
  "language_info": {
   "codemirror_mode": {
    "name": "ipython",
    "version": 3
   },
   "file_extension": ".py",
   "mimetype": "text/x-python",
   "name": "python",
   "nbconvert_exporter": "python",
   "pygments_lexer": "ipython3",
   "version": "3.5.3"
  }
 },
 "nbformat": 4,
 "nbformat_minor": 1
}
